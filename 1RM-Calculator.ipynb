{
 "cells": [
  {
   "cell_type": "markdown",
   "metadata": {},
   "source": [
    "# Calculating the 1 Rep Maximum (1RM) for your strength disciplines"
   ]
  },
  {
   "cell_type": "markdown",
   "metadata": {},
   "source": [
    "Upper Body Exercises\n",
    "\n",
    "Find the heaviest weight you can lift 4-6 times and plug it into this equation: (kg * 1.1307) + 0.6998.\n",
    "\n",
    "So if you can do 5 reps of 60kg, then according to the formula – \n",
    "(60 *1.1307) + 0.6998 – your 1RM will be 68.5kg. \n",
    "\n",
    "For lower body use this formula: (4-6RM x 1.09703) + 14.2546."
   ]
  },
  {
   "cell_type": "markdown",
   "metadata": {},
   "source": [
    "# Upper Body"
   ]
  },
  {
   "cell_type": "code",
   "execution_count": 1,
   "metadata": {},
   "outputs": [
    {
     "name": "stdout",
     "output_type": "stream",
     "text": [
      "85\n"
     ]
    },
    {
     "data": {
      "text/plain": [
       "'Your 1RM is approximately: 96.8093 kg'"
      ]
     },
     "execution_count": 1,
     "metadata": {},
     "output_type": "execute_result"
    }
   ],
   "source": [
    "kgU = float(input())\n",
    "\n",
    "RMU = (kgU * 1.1307) + 0.6998\n",
    "\n",
    "\"Your 1RM is approximately: \" + str(RMU) + \" kg\""
   ]
  },
  {
   "cell_type": "markdown",
   "metadata": {},
   "source": [
    "# Lower Body"
   ]
  },
  {
   "cell_type": "code",
   "execution_count": 3,
   "metadata": {},
   "outputs": [
    {
     "name": "stdout",
     "output_type": "stream",
     "text": [
      "85\n"
     ]
    },
    {
     "data": {
      "text/plain": [
       "'Your 1RM is approximately: 107.50214999999999 kg'"
      ]
     },
     "execution_count": 3,
     "metadata": {},
     "output_type": "execute_result"
    }
   ],
   "source": [
    "kgL = float(input())\n",
    "\n",
    "RML = (kgL * 1.09703) + 14.2546\n",
    "\n",
    "\"Your 1RM is approximately: \" + str(RML) + \" kg\""
   ]
  },
  {
   "cell_type": "code",
   "execution_count": null,
   "metadata": {},
   "outputs": [],
   "source": []
  }
 ],
 "metadata": {
  "kernelspec": {
   "display_name": "Python 3",
   "language": "python",
   "name": "python3"
  },
  "language_info": {
   "codemirror_mode": {
    "name": "ipython",
    "version": 3
   },
   "file_extension": ".py",
   "mimetype": "text/x-python",
   "name": "python",
   "nbconvert_exporter": "python",
   "pygments_lexer": "ipython3",
   "version": "3.6.5"
  }
 },
 "nbformat": 4,
 "nbformat_minor": 2
}
